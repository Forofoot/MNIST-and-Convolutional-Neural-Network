{
 "cells": [
  {
   "cell_type": "markdown",
   "id": "f9f58194-4b2c-434f-a18a-c48205179611",
   "metadata": {},
   "source": [
    "# Cellule 1"
   ]
  },
  {
   "cell_type": "code",
   "execution_count": 3,
   "id": "f8097ee8-10a3-4159-92cc-75b07e31a11f",
   "metadata": {},
   "outputs": [],
   "source": [
    "import torch\n",
    "import torch.nn as nn\n",
    "import torch.nn.functional as F\n",
    "from torchvision import datasets, transforms\n",
    "import matplotlib.pyplot as plt"
   ]
  },
  {
   "cell_type": "markdown",
   "id": "a6d5a74b-8006-4339-b77e-5ecfe5c07485",
   "metadata": {},
   "source": [
    "# Cellule 2"
   ]
  },
  {
   "cell_type": "code",
   "execution_count": 5,
   "id": "4e346d46-338b-46f2-83f7-2c8cfa4424bf",
   "metadata": {},
   "outputs": [
    {
     "data": {
      "text/plain": [
       "'cuda'"
      ]
     },
     "execution_count": 5,
     "metadata": {},
     "output_type": "execute_result"
    }
   ],
   "source": [
    "device = \"cuda\" if torch.cuda.is_available() else \"cpu\"\n",
    "device"
   ]
  },
  {
   "cell_type": "markdown",
   "id": "5c683c36",
   "metadata": {},
   "source": [
    "# Ne pas éxecuter pour le moment"
   ]
  },
  {
   "cell_type": "code",
   "execution_count": 6,
   "id": "65a74e93",
   "metadata": {},
   "outputs": [
    {
     "name": "stdout",
     "output_type": "stream",
     "text": [
      "Downloading http://yann.lecun.com/exdb/mnist/train-images-idx3-ubyte.gz\n",
      "Failed to download (trying next):\n",
      "HTTP Error 403: Forbidden\n",
      "\n",
      "Downloading https://ossci-datasets.s3.amazonaws.com/mnist/train-images-idx3-ubyte.gz\n",
      "Downloading https://ossci-datasets.s3.amazonaws.com/mnist/train-images-idx3-ubyte.gz to ../data/raw\\MNIST\\raw\\train-images-idx3-ubyte.gz\n"
     ]
    },
    {
     "name": "stderr",
     "output_type": "stream",
     "text": [
      "100.0%\n"
     ]
    },
    {
     "name": "stdout",
     "output_type": "stream",
     "text": [
      "Extracting ../data/raw\\MNIST\\raw\\train-images-idx3-ubyte.gz to ../data/raw\\MNIST\\raw\n",
      "\n",
      "Downloading http://yann.lecun.com/exdb/mnist/train-labels-idx1-ubyte.gz\n",
      "Failed to download (trying next):\n",
      "HTTP Error 403: Forbidden\n",
      "\n",
      "Downloading https://ossci-datasets.s3.amazonaws.com/mnist/train-labels-idx1-ubyte.gz\n",
      "Downloading https://ossci-datasets.s3.amazonaws.com/mnist/train-labels-idx1-ubyte.gz to ../data/raw\\MNIST\\raw\\train-labels-idx1-ubyte.gz\n"
     ]
    },
    {
     "name": "stderr",
     "output_type": "stream",
     "text": [
      "100.0%\n"
     ]
    },
    {
     "name": "stdout",
     "output_type": "stream",
     "text": [
      "Extracting ../data/raw\\MNIST\\raw\\train-labels-idx1-ubyte.gz to ../data/raw\\MNIST\\raw\n",
      "\n",
      "Downloading http://yann.lecun.com/exdb/mnist/t10k-images-idx3-ubyte.gz\n",
      "Failed to download (trying next):\n",
      "HTTP Error 403: Forbidden\n",
      "\n",
      "Downloading https://ossci-datasets.s3.amazonaws.com/mnist/t10k-images-idx3-ubyte.gz\n",
      "Downloading https://ossci-datasets.s3.amazonaws.com/mnist/t10k-images-idx3-ubyte.gz to ../data/raw\\MNIST\\raw\\t10k-images-idx3-ubyte.gz\n"
     ]
    },
    {
     "name": "stderr",
     "output_type": "stream",
     "text": [
      "100.0%\n"
     ]
    },
    {
     "name": "stdout",
     "output_type": "stream",
     "text": [
      "Extracting ../data/raw\\MNIST\\raw\\t10k-images-idx3-ubyte.gz to ../data/raw\\MNIST\\raw\n",
      "\n",
      "Downloading http://yann.lecun.com/exdb/mnist/t10k-labels-idx1-ubyte.gz\n",
      "Failed to download (trying next):\n",
      "HTTP Error 403: Forbidden\n",
      "\n",
      "Downloading https://ossci-datasets.s3.amazonaws.com/mnist/t10k-labels-idx1-ubyte.gz\n",
      "Downloading https://ossci-datasets.s3.amazonaws.com/mnist/t10k-labels-idx1-ubyte.gz to ../data/raw\\MNIST\\raw\\t10k-labels-idx1-ubyte.gz\n"
     ]
    },
    {
     "name": "stderr",
     "output_type": "stream",
     "text": [
      "100.0%"
     ]
    },
    {
     "name": "stdout",
     "output_type": "stream",
     "text": [
      "Extracting ../data/raw\\MNIST\\raw\\t10k-labels-idx1-ubyte.gz to ../data/raw\\MNIST\\raw\n",
      "\n"
     ]
    },
    {
     "name": "stderr",
     "output_type": "stream",
     "text": [
      "\n"
     ]
    }
   ],
   "source": [
    "tf = transforms.Compose([transforms.ToTensor(),\n",
    "transforms.Normalize((0.1307,), (0.3081,))])\n",
    "\n",
    "train_loader = torch.utils.data.DataLoader(datasets.MNIST(\"../data/raw\", download=True, train=True, transform=tf),\n",
    "batch_size=64, shuffle=True)\n",
    "test_load = torch.utils.data.DataLoader(datasets.MNIST(\"../data/raw\", download=True, train=False, transform=tf),\n",
    "batch_size=64, shuffle=True)"
   ]
  },
  {
   "cell_type": "markdown",
   "id": "42f15932",
   "metadata": {},
   "source": [
    "## Début du code"
   ]
  },
  {
   "cell_type": "code",
   "execution_count": 7,
   "id": "76755d59",
   "metadata": {},
   "outputs": [
    {
     "data": {
      "image/png": "[encoded data removed]",
      "text/plain": [
       "<Figure size 1500x300 with 5 Axes>"
      ]
     },
     "metadata": {},
     "output_type": "display_data"
    }
   ],
   "source": [
    "# Récupérer les 5 premières images et leurs étiquettes\n",
    "batch = next(iter(train_loader))\n",
    "images = batch[0][:5]\n",
    "labels = batch[1][:5]\n",
    "\n",
    "# Afficher les images\n",
    "fig, axes = plt.subplots(1, 5, figsize=(15, 3))\n",
    "for i, ax in enumerate(axes):\n",
    "    ax.imshow(images[i].squeeze(), cmap='gray')\n",
    "    ax.set_title(f\"Label: {labels[i]}\")\n",
    "    ax.axis('off')\n",
    "\n",
    "plt.show()"
   ]
  },
  {
   "cell_type": "markdown",
   "id": "1327ca52",
   "metadata": {},
   "source": [
    "### Construction d'une classe"
   ]
  },
  {
   "cell_type": "code",
   "execution_count": 8,
   "id": "6e153717",
   "metadata": {},
   "outputs": [],
   "source": [
    "class ConvNet(nn.Module):\n",
    "    def __init__(self, input_size, n_kernels, output_size):\n",
    "        super(ConvNet, self).__init__()\n",
    "        self.net = nn.Sequential(\n",
    "            nn.Conv2d(1, n_kernels, kernel_size=5),\n",
    "            nn.ReLU(),\n",
    "            nn.MaxPool2d(kernel_size=2),\n",
    "            nn.Conv2d(n_kernels, n_kernels, kernel_size=5),\n",
    "            nn.ReLU(),\n",
    "            nn.MaxPool2d(kernel_size=2),\n",
    "            nn.Flatten(),\n",
    "            nn.Linear(n_kernels * 4 * 4, 50),\n",
    "            nn.ReLU(),\n",
    "            nn.Linear(50, output_size)\n",
    "        )\n",
    "        \n",
    "    \n",
    "    def forward(self, x):\n",
    "        return self.net(x)"
   ]
  },
  {
   "cell_type": "markdown",
   "id": "a545452e",
   "metadata": {},
   "source": [
    "### Fonction train"
   ]
  },
  {
   "cell_type": "code",
   "execution_count": 9,
   "id": "299189f1",
   "metadata": {},
   "outputs": [],
   "source": [
    "def train(model, train_loader, perm, n_epoch=1):\n",
    "    model.train()\n",
    "    optimizer = torch.optim.AdamW(model.parameters())\n",
    "\n",
    "    for epoch in range(n_epoch):\n",
    "        for batch_idx, (data, target) in enumerate(train_loader):\n",
    "            data, target = data.to(device), target.to(device)\n",
    "            \n",
    "            # Appliquer les permutations de pixels par la matrice circulaire de Toeplitz\n",
    "            data = data.view(-1, 28*28)\n",
    "            data = data[:, perm]\n",
    "            data = data.view(-1, 1, 28, 28)\n",
    "            \n",
    "            optimizer.zero_grad()\n",
    "            logits = model(data)\n",
    "            loss = F.cross_entropy(logits, target)\n",
    "            loss.backward()\n",
    "            optimizer.step()\n",
    "            \n",
    "            if batch_idx % 100 == 0:\n",
    "                print(f'Epoch: {epoch}, Step: {batch_idx}, Loss: {loss.item()}')"
   ]
  },
  {
   "cell_type": "markdown",
   "id": "574ab473",
   "metadata": {},
   "source": [
    "### Fonction test"
   ]
  },
  {
   "cell_type": "code",
   "execution_count": 10,
   "id": "e7894645",
   "metadata": {},
   "outputs": [],
   "source": [
    "def test(model, test_loader, perm):\n",
    "    model.eval()\n",
    "    test_loss = 0\n",
    "    correct = 0\n",
    "    \n",
    "    with torch.no_grad():\n",
    "        for data, target in test_loader:\n",
    "            data, target = data.to(device), target.to(device)\n",
    "            \n",
    "            # Appliquer les permutations de pixels par la matrice circulaire de Toeplitz\n",
    "            data = data.view(-1, 28*28)\n",
    "            data = data[:, perm]\n",
    "            data = data.view(-1, 1, 28, 28)\n",
    "            \n",
    "            logits = model(data)\n",
    "            test_loss += F.cross_entropy(logits, target, reduction='sum').item()\n",
    "            pred = torch.argmax(logits, dim=1)\n",
    "            correct += pred.eq(target).sum().item()\n",
    "    \n",
    "    test_loss /= len(test_loader.dataset)\n",
    "    accuracy = correct / len(test_loader.dataset)\n",
    "    \n",
    "    print(f'Average loss: {test_loss:.4f}, Accuracy: {accuracy:.4f}')\n"
   ]
  },
  {
   "cell_type": "markdown",
   "id": "8412a420",
   "metadata": {},
   "source": [
    "### Lancement de l'entrainement"
   ]
  },
  {
   "cell_type": "code",
   "execution_count": 13,
   "id": "5c6bf1f8",
   "metadata": {},
   "outputs": [
    {
     "name": "stdout",
     "output_type": "stream",
     "text": [
      "Parameters=6.422K\n",
      "Epoch: 0, Step: 0, Loss: 2.295722484588623\n",
      "Epoch: 0, Step: 100, Loss: 0.5455559492111206\n",
      "Epoch: 0, Step: 200, Loss: 0.4954688251018524\n",
      "Epoch: 0, Step: 300, Loss: 0.21575330197811127\n",
      "Epoch: 0, Step: 400, Loss: 0.2976612150669098\n",
      "Epoch: 0, Step: 500, Loss: 0.2254517674446106\n",
      "Epoch: 0, Step: 600, Loss: 0.17761041224002838\n",
      "Epoch: 0, Step: 700, Loss: 0.05773052200675011\n",
      "Epoch: 0, Step: 800, Loss: 0.17278288304805756\n",
      "Epoch: 0, Step: 900, Loss: 0.03685908764600754\n",
      "Average loss: 0.1168, Accuracy: 0.9618\n"
     ]
    }
   ],
   "source": [
    "n_kernels = 6\n",
    "input_size = 28*28\n",
    "output_size = 10\n",
    "convnet = ConvNet(input_size, n_kernels, output_size)\n",
    "convnet.to(device)\n",
    "print(f\"Parameters={sum(p.numel() for p in convnet.parameters())/1e3}K\")\n",
    "train(convnet, train_loader, torch.arange(0, 784))\n",
    "test(convnet, test_load, torch.arange(0, 784))"
   ]
  },
  {
   "cell_type": "markdown",
   "id": "bc200e8b",
   "metadata": {},
   "source": [
    "### Nouveau modèle : le perceptron multi-couches"
   ]
  },
  {
   "cell_type": "code",
   "execution_count": 14,
   "id": "100d0314",
   "metadata": {},
   "outputs": [],
   "source": [
    "class MLP(nn.Module):\n",
    "    def __init__(self, input_size, n_hidden, output_size):\n",
    "        super(MLP, self).__init__()\n",
    "        self.net = nn.Sequential(\n",
    "            nn.Linear(input_size, n_hidden),\n",
    "            nn.ReLU(),\n",
    "            nn.Linear(n_hidden, n_hidden),\n",
    "            nn.ReLU(),\n",
    "            nn.Linear(n_hidden, output_size)\n",
    "        )\n",
    "    \n",
    "    def forward(self, x):\n",
    "        x = x.view(-1, 28*28)\n",
    "        return self.net(x)"
   ]
  },
  {
   "cell_type": "markdown",
   "id": "b8ab6769",
   "metadata": {},
   "source": [
    "### Fonction train"
   ]
  },
  {
   "cell_type": "code",
   "execution_count": 16,
   "id": "47a88a4b",
   "metadata": {},
   "outputs": [],
   "source": [
    "def mlp_train(model, train_loader, perm, n_epoch=1):\n",
    "    model.train()\n",
    "    optimizer = torch.optim.AdamW(model.parameters())\n",
    "\n",
    "    for epoch in range(n_epoch):\n",
    "        for batch_idx, (data, target) in enumerate(train_loader):\n",
    "            data, target = data.to(device), target.to(device)\n",
    "            \n",
    "            # Appliquer les permutations de pixels par la matrice circulaire de Toeplitz\n",
    "            data = data.view(-1, 28*28)\n",
    "            data = data[:, perm]\n",
    "            data = data.view(-1, 1, 28, 28)\n",
    "            \n",
    "            optimizer.zero_grad()\n",
    "            logits = model(data)\n",
    "            loss = F.cross_entropy(logits, target)\n",
    "            loss.backward()\n",
    "            optimizer.step()\n",
    "            \n",
    "            if batch_idx % 100 == 0:\n",
    "                print(f'Epoch: {epoch}, Step: {batch_idx}, Loss: {loss.item()}')\n",
    "\n"
   ]
  },
  {
   "cell_type": "markdown",
   "id": "e07eb30c",
   "metadata": {},
   "source": [
    "### Fonction test"
   ]
  },
  {
   "cell_type": "code",
   "execution_count": 17,
   "id": "2f218afb",
   "metadata": {},
   "outputs": [],
   "source": [
    "def mlp_test(model, test_loader, perm):\n",
    "    model.eval()\n",
    "    test_loss = 0\n",
    "    correct = 0\n",
    "    \n",
    "    with torch.no_grad():\n",
    "        for data, target in test_loader:\n",
    "            data, target = data.to(device), target.to(device)\n",
    "            \n",
    "            # Appliquer les permutations de pixels par la matrice circulaire de Toeplitz\n",
    "            data = data.view(-1, 28*28)\n",
    "            data = data[:, perm]\n",
    "            data = data.view(-1, 1, 28, 28)\n",
    "            \n",
    "            logits = model(data)\n",
    "            test_loss += F.cross_entropy(logits, target, reduction='sum').item()\n",
    "            pred = torch.argmax(logits, dim=1)\n",
    "            correct += pred.eq(target).sum().item()\n",
    "    \n",
    "    test_loss /= len(test_loader.dataset)\n",
    "    accuracy = correct / len(test_loader.dataset)\n",
    "    \n",
    "    print(f'Average loss: {test_loss:.4f}, Accuracy: {accuracy:.4f}')\n"
   ]
  },
  {
   "cell_type": "markdown",
   "id": "3663ceac",
   "metadata": {},
   "source": [
    "### Lancement de l'entraînement"
   ]
  },
  {
   "cell_type": "code",
   "execution_count": 20,
   "id": "774483c4",
   "metadata": {},
   "outputs": [
    {
     "name": "stdout",
     "output_type": "stream",
     "text": [
      "Parameters=6.442K\n",
      "Epoch: 0, Step: 0, Loss: 2.328458786010742\n",
      "Epoch: 0, Step: 100, Loss: 1.3120949268341064\n",
      "Epoch: 0, Step: 200, Loss: 0.9425003528594971\n",
      "Epoch: 0, Step: 300, Loss: 0.5962355136871338\n",
      "Epoch: 0, Step: 400, Loss: 0.5497626662254333\n",
      "Epoch: 0, Step: 500, Loss: 0.5512579679489136\n",
      "Epoch: 0, Step: 600, Loss: 0.36224350333213806\n",
      "Epoch: 0, Step: 700, Loss: 0.8227468729019165\n",
      "Epoch: 0, Step: 800, Loss: 0.3002803921699524\n",
      "Epoch: 0, Step: 900, Loss: 0.5813274383544922\n",
      "Average loss: 0.4043, Accuracy: 0.8804\n"
     ]
    }
   ],
   "source": [
    "input_size = 28*28\n",
    "output_size = 10\n",
    "n_hidden = 8\n",
    "mlp = MLP(input_size, n_hidden, output_size)\n",
    "mlp.to(device)\n",
    "print(f\"Parameters={sum(p.numel() for p in mlp.parameters())/1e3}K\")\n",
    "mlp_train(mlp, train_loader, torch.arange(0, 784))\n",
    "mlp_test(mlp, test_load, torch.arange(0, 784))"
   ]
  },
  {
   "cell_type": "markdown",
   "id": "ccb11414",
   "metadata": {},
   "source": [
    "Bien que le MLP soit plus simple et flexible, il n'est pas aussi bien adapté pour traiter des données structurées en grille comme les images. Les CNNs, en revanche, sont spécifiquement conçus pour exploiter les structures spatiales des images, ce qui les rend beaucoup plus efficaces pour les tâches de vision par ordinateur"
   ]
  },
  {
   "cell_type": "code",
   "execution_count": 23,
   "id": "36955ef1",
   "metadata": {},
   "outputs": [
    {
     "name": "stdout",
     "output_type": "stream",
     "text": [
      "Parameters=6.442K\n",
      "Epoch: 0, Step: 0, Loss: 2.621769428253174\n",
      "Epoch: 0, Step: 100, Loss: 0.7604302763938904\n",
      "Epoch: 0, Step: 200, Loss: 0.5023573637008667\n",
      "Epoch: 0, Step: 300, Loss: 0.4332887828350067\n",
      "Epoch: 0, Step: 400, Loss: 0.29884347319602966\n",
      "Epoch: 0, Step: 500, Loss: 0.35487493872642517\n",
      "Epoch: 0, Step: 600, Loss: 0.3657197058200836\n",
      "Epoch: 0, Step: 700, Loss: 0.19481995701789856\n",
      "Epoch: 0, Step: 800, Loss: 0.5254439115524292\n",
      "Epoch: 0, Step: 900, Loss: 0.31269392371177673\n",
      "Average loss: 3.3356, Accuracy: 0.0693\n",
      "-----------------\n",
      "Parameters=6.422K\n",
      "Epoch: 0, Step: 0, Loss: 4.334047317504883\n",
      "Epoch: 0, Step: 100, Loss: 1.4392523765563965\n",
      "Epoch: 0, Step: 200, Loss: 0.6984210014343262\n",
      "Epoch: 0, Step: 300, Loss: 0.8331004977226257\n",
      "Epoch: 0, Step: 400, Loss: 0.4615146219730377\n",
      "Epoch: 0, Step: 500, Loss: 0.6334160566329956\n",
      "Epoch: 0, Step: 600, Loss: 0.6140337586402893\n",
      "Epoch: 0, Step: 700, Loss: 0.41066673398017883\n",
      "Epoch: 0, Step: 800, Loss: 0.5583491921424866\n",
      "Epoch: 0, Step: 900, Loss: 0.6091879606246948\n",
      "Average loss: 3.6665, Accuracy: 0.1375\n"
     ]
    }
   ],
   "source": [
    "print(f\"Parameters={sum(p.numel() for p in mlp.parameters())/1e3}K\")\n",
    "mlp_train(mlp, train_loader, torch.randperm(784))\n",
    "mlp_test(mlp, test_load, torch.randperm(784))\n",
    "print(\"-----------------\")\n",
    "print(f\"Parameters={sum(p.numel() for p in convnet.parameters())/1e3}K\")\n",
    "train(convnet, train_loader, torch.randperm(784))\n",
    "test(convnet, test_load, torch.randperm(784))"
   ]
  },
  {
   "cell_type": "markdown",
   "id": "69012a50",
   "metadata": {},
   "source": [
    "Cette expérience démontre clairement l'importance de la structure spatiale des images pour les CNNs. Les CNNs sont conçus pour tirer parti des relations locales entre les pixels, ce qui leur donne un avantage significatif sur les MLPs pour les tâches de vision par ordinateur. Cependant, lorsque cette structure est détruite par une permutation aléatoire, les CNNs perdent cet avantage et leurs performances chutent considérablement.\n",
    "\n",
    "Les MLPs, bien que moins dépendants de la structure spatiale, ne sont pas capables de compenser cette perte car ils n'exploitent pas les relations spatiales de manière efficace."
   ]
  },
  {
   "cell_type": "code",
   "execution_count": 24,
   "id": "46590be2",
   "metadata": {},
   "outputs": [],
   "source": [
    "torch.save(convnet.state_dict(), \"convnet.pth\")"
   ]
  },
  {
   "cell_type": "code",
   "execution_count": null,
   "id": "117e207e",
   "metadata": {},
   "outputs": [],
   "source": []
  }
 ],
 "metadata": {
  "kernelspec": {
   "display_name": "Python 3 (ipykernel)",
   "language": "python",
   "name": "python3"
  },
  "language_info": {
   "codemirror_mode": {
    "name": "ipython",
    "version": 3
   },
   "file_extension": ".py",
   "mimetype": "text/x-python",
   "name": "python",
   "nbconvert_exporter": "python",
   "pygments_lexer": "ipython3",
   "version": "3.11.2"
  }
 },
 "nbformat": 4,
 "nbformat_minor": 5
}
